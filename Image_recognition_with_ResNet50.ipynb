{
  "nbformat": 4,
  "nbformat_minor": 0,
  "metadata": {
    "colab": {
      "name": "Image recognition with ResNet50.ipynb",
      "provenance": [],
      "collapsed_sections": [],
      "authorship_tag": "ABX9TyMiZqFyOAMLVOmHpfbCLbpH",
      "include_colab_link": true
    },
    "kernelspec": {
      "name": "python3",
      "display_name": "Python 3"
    },
    "language_info": {
      "name": "python"
    },
    "accelerator": "GPU",
    "gpuClass": "standard"
  },
  "cells": [
    {
      "cell_type": "markdown",
      "metadata": {
        "id": "view-in-github",
        "colab_type": "text"
      },
      "source": [
        "<a href=\"https://colab.research.google.com/github/Arminsbss/Image-recognition-with-ResNet50/blob/main/Image_recognition_with_ResNet50.ipynb\" target=\"_parent\"><img src=\"https://colab.research.google.com/assets/colab-badge.svg\" alt=\"Open In Colab\"/></a>"
      ]
    },
    {
      "cell_type": "code",
      "execution_count": null,
      "metadata": {
        "colab": {
          "base_uri": "https://localhost:8080/"
        },
        "id": "IkEr68KJIYx0",
        "outputId": "f57a7e0b-a03f-4175-a6c0-e5304b78a8de"
      },
      "outputs": [
        {
          "output_type": "stream",
          "name": "stdout",
          "text": [
            "Downloading data from https://storage.googleapis.com/download.tensorflow.org/data/imagenet_class_index.json\n",
            "40960/35363 [==================================] - 0s 0us/step\n",
            "49152/35363 [=========================================] - 0s 0us/step\n",
            "This is an image of:\n",
            " - seashore: 0.570417 likelihood\n",
            " - lakeside: 0.292265 likelihood\n",
            " - dock: 0.082964 likelihood\n",
            " - breakwater: 0.037219 likelihood\n",
            " - promontory: 0.005919 likelihood\n",
            " - catamaran: 0.002877 likelihood\n",
            " - sandbar: 0.001334 likelihood\n",
            " - trimaran: 0.000754 likelihood\n",
            " - pier: 0.000743 likelihood\n"
          ]
        }
      ],
      "source": [
        "import numpy as np\n",
        "import keras\n",
        "from keras.preprocessing import image\n",
        "from keras.applications import resnet\n",
        "# Load Keras' ResNet50 model that was pre-trained against the ImageNet database\n",
        "model = resnet.ResNet50()\n",
        "\n",
        "# Load the image file, resizing it to 224x224 pixels (required by this model)\n",
        "img = image.load_img(\"bay.jpg\", target_size=(224, 224))\n",
        "\n",
        "# Convert the image to a numpy array\n",
        "x = image.img_to_array(img)\n",
        "\n",
        "# Add a forth dimension since Keras expects a list of images\n",
        "x = np.expand_dims(x, axis=0)\n",
        "\n",
        "# Scale the input image to the range used in the trained network\n",
        "x = resnet.preprocess_input(x)\n",
        "\n",
        "# Run the image through the deep neural network to make a prediction\n",
        "predictions = model.predict(x)\n",
        "\n",
        "# Look up the names of the predicted classes. Index zero is the results for the first image.\n",
        "predicted_classes = resnet.decode_predictions(predictions, top=9)\n",
        "\n",
        "print(\"This is an image of:\")\n",
        "\n",
        "for imagenet_id, name, likelihood in predicted_classes[0]:\n",
        "    print(\" - {}: {:2f} likelihood\".format(name, likelihood))\n",
        "\n"
      ]
    }
  ]
}